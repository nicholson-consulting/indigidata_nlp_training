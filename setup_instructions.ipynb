{
 "cells": [
  {
   "cell_type": "markdown",
   "id": "a2cac967-e6e5-40be-88d7-675e5955253f",
   "metadata": {},
   "source": [
    "# NLP training set-up\n",
    "This is the setup notebook for the natural language processing (NLP) workshop at the Indigidata event. This guide will help you set up your environment and ensure everything is working correctly before the session on Monday 26th August 2024."
   ]
  },
  {
   "cell_type": "markdown",
   "id": "d1833e07-2115-441e-bbb4-d5a5b97e6610",
   "metadata": {},
   "source": [
    "### Install the packages \n",
    "Once Juypter Notebook is open We will be using the following packages for this workshop. You will need to ensure that these are installed and can be imported successfully before the workshop.\n",
    "#### Importing the NLTK package\n",
    "The `nltk` package is the NLP library we will be using during the session. If you do not already have `nltk` installed, you will need to install it using the following command:\n",
    "\n",
    "Alternatively, you can install the package from the command line (`pip install nltk`) or using your favourite Python package manager such as Anaconda."
   ]
  },
  {
   "cell_type": "code",
   "execution_count": null,
   "id": "e3c3cc43-2e91-49e1-9053-1f6969163566",
   "metadata": {},
   "outputs": [],
   "source": [
    "# installing the nltk package - press ctrl + enter to run the code cell\n",
    "!pip install nltk"
   ]
  },
  {
   "cell_type": "markdown",
   "id": "36621098-5ec6-4525-a69c-6877a7fde7fe",
   "metadata": {},
   "source": [
    "Once the package has successfully installed, check that you can import the package:"
   ]
  },
  {
   "cell_type": "code",
   "execution_count": null,
   "id": "6a2e3605-c4e3-49b7-83b2-877eb84af3e9",
   "metadata": {},
   "outputs": [],
   "source": [
    "# import the nltk package\n",
    "import nltk"
   ]
  },
  {
   "cell_type": "markdown",
   "id": "87edb9bb-d910-44fe-b06d-979c15abb9eb",
   "metadata": {},
   "source": [
    "We will also be using the NLTK names corpus during this session. You will need to first download the names corpus:"
   ]
  },
  {
   "cell_type": "code",
   "execution_count": null,
   "id": "4365e574-57a1-4771-afb1-f6acfb05fe33",
   "metadata": {},
   "outputs": [],
   "source": [
    "# download the names corpus from the nltk package\n",
    "nltk.download('names')"
   ]
  },
  {
   "cell_type": "markdown",
   "id": "ac533812-9774-4b93-ab8d-cf63833edb50",
   "metadata": {},
   "source": [
    "Import the names corpus and test that it loads by loading the first 15 names:"
   ]
  },
  {
   "cell_type": "code",
   "execution_count": null,
   "id": "c775a062-04e2-472d-a375-2be14191430d",
   "metadata": {},
   "outputs": [],
   "source": [
    "# import the name corpus\n",
    "from nltk.corpus import names\n",
    "\n",
    "# print the first 15 names in the corpus\n",
    "print(names.words()[:15])"
   ]
  },
  {
   "cell_type": "markdown",
   "id": "1ef11fdb",
   "metadata": {},
   "source": [
    "At this stage, if everything has worked, you should get some output that looks like a list of names\n",
    " starting with `['Abagael', 'Abagail', 'Abbe', 'Abbey', 'Abbi', 'Abbie', 'Abby',`"
   ]
  },
  {
   "cell_type": "markdown",
   "id": "9b61519f",
   "metadata": {},
   "source": [
    "Next we want to make sure that we can load the various other packages that we'll be using during the wānanga:"
   ]
  },
  {
   "cell_type": "code",
   "execution_count": null,
   "id": "4bbd9a5a",
   "metadata": {},
   "outputs": [],
   "source": [
    "from IPython.display import Image\n",
    "import random\n",
    "import ast\n",
    "from nltk import NaiveBayesClassifier\n",
    "from nltk import classify"
   ]
  },
  {
   "cell_type": "markdown",
   "id": "396c33a2",
   "metadata": {},
   "source": [
    "If everything worked in the import you should have no error messages. \n",
    "But it can also be useful to test that things work by using them.\n",
    "\n",
    "You can run the code below and test that the output from the print statements \n",
    "and from the `nb_classifier` line matches the expected output indicated in the comments of the code."
   ]
  },
  {
   "cell_type": "code",
   "execution_count": null,
   "id": "fb514949",
   "metadata": {},
   "outputs": [],
   "source": [
    "x = [1,2,3,4,5]\n",
    "random.shuffle(x)\n",
    "print(x) #should be in random order\n",
    "\n",
    "y = '''('word','flag')'''\n",
    "print(type(y)) # expect class 'str'\n",
    "print(type(ast.literal_eval(y))) # expect tuple\n",
    "\n",
    "nb_classifier = NaiveBayesClassifier.train([({'feature':'value'},'tag')]) #train on a single piece of \"data\"\n",
    "nb_classifier.classify({'feature':'value'}) #expect to classify this as 'tag'"
   ]
  },
  {
   "cell_type": "markdown",
   "id": "6b966229-6890-40db-9cf2-97984edbe785",
   "metadata": {},
   "source": [
    "### Importing the selenium package \n",
    "We will also be using the `selenium` and `BeautifulSoup4` packages to scrape names from a website. If you do not already have these installed, you will need to install them using the following commands (or your preferred alternative method):"
   ]
  },
  {
   "cell_type": "code",
   "execution_count": null,
   "id": "3570852b-9843-44a7-af92-4cf99946fec7",
   "metadata": {},
   "outputs": [],
   "source": [
    "# install the selenium package\n",
    "!pip install selenium\n",
    "\n",
    "# install BeautifulSoup4\n",
    "!pip install BeautifulSoup4"
   ]
  },
  {
   "cell_type": "markdown",
   "id": "a6b55380-5960-45ad-9c04-1571e3661a12",
   "metadata": {},
   "source": [
    "Import the packages and test that they load by checking the versions of the package:"
   ]
  },
  {
   "cell_type": "code",
   "execution_count": null,
   "id": "3829f551-a4c6-42be-b6db-19d932cfc2ac",
   "metadata": {},
   "outputs": [],
   "source": [
    "# print the version of the package to ensure it has installed correctly\n",
    "import selenium\n",
    "print(\"Selenium version:\",selenium.__version__) #expect a version number, probably 4.31.1\n",
    "\n",
    "from bs4 import BeautifulSoup\n",
    "BeautifulSoup('''<p>words words words</p>''','html.parser').find_all('p')\n",
    "# expect output that looks like '[<p>words words words</p>]'"
   ]
  },
  {
   "cell_type": "code",
   "execution_count": null,
   "id": "9174ad55-c01e-42ce-bfc1-46ff95c1a215",
   "metadata": {},
   "outputs": [],
   "source": [
    "# clear outputs - just to keep things tidy.\n",
    "from IPython.display import clear_output\n",
    "clear_output()"
   ]
  }
 ],
 "metadata": {
  "kernelspec": {
   "display_name": "Python 3 (ipykernel)",
   "language": "python",
   "name": "python3"
  },
  "language_info": {
   "codemirror_mode": {
    "name": "ipython",
    "version": 3
   },
   "file_extension": ".py",
   "mimetype": "text/x-python",
   "name": "python",
   "nbconvert_exporter": "python",
   "pygments_lexer": "ipython3",
   "version": "3.12.5"
  }
 },
 "nbformat": 4,
 "nbformat_minor": 5
}
