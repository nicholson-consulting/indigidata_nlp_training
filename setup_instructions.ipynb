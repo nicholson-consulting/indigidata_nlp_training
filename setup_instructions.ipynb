{
 "cells": [
  {
   "cell_type": "markdown",
   "id": "a2cac967-e6e5-40be-88d7-675e5955253f",
   "metadata": {},
   "source": [
    "# NLP training set-up\n",
    "This is the setup notebook for the natural language processing (NLP) workshop at the Indigidata event. This guide will help you set up your environment and ensure everything is working correctly before the session on Monday 26th August 2024."
   ]
  },
  {
   "cell_type": "markdown",
   "id": "fafae1a1-72c6-4870-ad38-575a1602b37f",
   "metadata": {},
   "source": [
    "#### Importing the NLTK package\n",
    "The `nltk` package is the NLP library we will be using during the session. If you do not already have nltk installed, you will need to install it using the following function:\n"
   ]
  },
  {
   "cell_type": "markdown",
   "id": "d1833e07-2115-441e-bbb4-d5a5b97e6610",
   "metadata": {},
   "source": [
    "### Install the packages \n",
    "Once Juypter Notebook is open We will be using the following packages for this workshop. You will need to ensure that these are installed and can be imported successfully before the workshop.\n",
    "#### Importing the NLTK package\n",
    "The `nltk` package is the NLP library we will be using during the session. If you do not already have `nltk` installed, you will need to install it using the following function:"
   ]
  },
  {
   "cell_type": "code",
   "execution_count": null,
   "id": "e3c3cc43-2e91-49e1-9053-1f6969163566",
   "metadata": {},
   "outputs": [],
   "source": [
    "# installing the nltk package - press ctrl + enter to run the code cell\n",
    "!pip install nltk"
   ]
  },
  {
   "cell_type": "markdown",
   "id": "36621098-5ec6-4525-a69c-6877a7fde7fe",
   "metadata": {},
   "source": [
    "Once the package has successfully installed, check that you can import the package:"
   ]
  },
  {
   "cell_type": "code",
   "execution_count": null,
   "id": "6a2e3605-c4e3-49b7-83b2-877eb84af3e9",
   "metadata": {},
   "outputs": [],
   "source": [
    "# import the nltk package\n",
    "import nltk"
   ]
  },
  {
   "cell_type": "markdown",
   "id": "87edb9bb-d910-44fe-b06d-979c15abb9eb",
   "metadata": {},
   "source": [
    "We will also be using the NLTK names corpus during this session. You will need to first download the names corpus:"
   ]
  },
  {
   "cell_type": "code",
   "execution_count": null,
   "id": "4365e574-57a1-4771-afb1-f6acfb05fe33",
   "metadata": {},
   "outputs": [],
   "source": [
    "# download the names corpus from the nltk package\n",
    "nltk.download('names')"
   ]
  },
  {
   "cell_type": "markdown",
   "id": "ac533812-9774-4b93-ab8d-cf63833edb50",
   "metadata": {},
   "source": [
    "Import the names corpus and test that it loads by loading the first 15 names:"
   ]
  },
  {
   "cell_type": "code",
   "execution_count": null,
   "id": "c775a062-04e2-472d-a375-2be14191430d",
   "metadata": {},
   "outputs": [],
   "source": [
    "# import the name corpus \n",
    "from nltk.corpus import names\n",
    "\n",
    "# print the first 15 names in the corpus\n",
    "print(names.words()[:15])"
   ]
  },
  {
   "cell_type": "markdown",
   "id": "6b966229-6890-40db-9cf2-97984edbe785",
   "metadata": {},
   "source": [
    "### Importing the selenium package \n",
    "We will also be using the `selenium` package to load Māori names from a website. If you do not already have `selenium` installed, you will need to install it using the following function:"
   ]
  },
  {
   "cell_type": "code",
   "execution_count": null,
   "id": "3570852b-9843-44a7-af92-4cf99946fec7",
   "metadata": {},
   "outputs": [],
   "source": [
    "# install the selenium package\n",
    "!pip install selenium "
   ]
  },
  {
   "cell_type": "markdown",
   "id": "a6b55380-5960-45ad-9c04-1571e3661a12",
   "metadata": {},
   "source": [
    "Import the package and test that it loads by checking the version of the package:"
   ]
  },
  {
   "cell_type": "code",
   "execution_count": null,
   "id": "3829f551-a4c6-42be-b6db-19d932cfc2ac",
   "metadata": {},
   "outputs": [],
   "source": [
    "# print the version of the package to ensure it has installed correctly\n",
    "print(\"Selenium version: {selenium.__version__}\")"
   ]
  },
  {
   "cell_type": "code",
   "execution_count": null,
   "id": "9174ad55-c01e-42ce-bfc1-46ff95c1a215",
   "metadata": {},
   "outputs": [],
   "source": [
    "# clear outputs\n",
    "from IPython.display import clear_output\n",
    "clear_output()"
   ]
  }
 ],
 "metadata": {
  "kernelspec": {
   "display_name": "Python 3 (ipykernel)",
   "language": "python",
   "name": "python3"
  },
  "language_info": {
   "codemirror_mode": {
    "name": "ipython",
    "version": 3
   },
   "file_extension": ".py",
   "mimetype": "text/x-python",
   "name": "python",
   "nbconvert_exporter": "python",
   "pygments_lexer": "ipython3",
   "version": "3.10.9"
  }
 },
 "nbformat": 4,
 "nbformat_minor": 5
}
